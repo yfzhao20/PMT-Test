{
 "cells": [
  {
   "cell_type": "markdown",
   "metadata": {},
   "source": [
    "##### Read & Write Files"
   ]
  },
  {
   "cell_type": "code",
   "execution_count": null,
   "metadata": {},
   "outputs": [],
   "source": [
    "with open('analysis.txt', mode='w') as w:\n",
    "    with open(\"../../data/2_84V_raw_b0_seg0.bin\" , mode='rb') as f:\n",
    "        ev_count = 0\n",
    "        while (True):\n",
    "            try:\n",
    "                ev_header = f.read(4 << 2)\n",
    "                ## VALIDATE EVENT \n",
    "                ev_check = ev_header[3] >> 4 \n",
    "                if (ev_check != 10):\n",
    "                    break\n",
    "                ## GET EVENT SIZE\n",
    "                ev_size = get_bits(ev_header[:4], 27)\n",
    "                ## GET CHANNEL MASK\n",
    "                ev_chn_mask = get_chn(ev_header[4])\n",
    "                ## GET BOARD EVENT COUNT\n",
    "                ev_count = to_int(ev_header[8:11])\n",
    "                ## WRITE FILE\n",
    "                # print(ev_size, ev_chn_mask, ev_count)\n",
    "                # w.write(f\"event count: #{ev_count}\\n\")\n",
    "                \n",
    "                line_count = 3\n",
    "                while(len(ev_chn_mask)):\n",
    "                    chn_header = f.read(3 << 2)\n",
    "                    ## GET CHANNEL SIZE\n",
    "                    chn_size = get_bits(chn_header[:3], 22) \n",
    "                    chn_id = ev_chn_mask.pop(0)\n",
    "                    # w.write(f\"channel id: #{chn_id}\\n\")\n",
    "                    plt.plot(range())\n",
    "                    ## WRITE FILE TEST\n",
    "                    # sig_list = [f\"{i:>5} {to_int(f.read(2))}\\n\" for i in range((chn_size - 3) << 1)]\n",
    "                    # sig_list = [str(i)+\" \"+ str(to_int(f.read(2))) + \"\\n\" for i in range((chn_size - 3) << 1)]\n",
    "                    # w.writelines(sig_list)\n",
    "                ## CONTROL LOOP\n",
    "                if ev_count > 1:\n",
    "                    break\n",
    "            except Exception as e:\n",
    "                print(e)\n",
    "                break\n",
    "            "
   ]
  },
  {
   "cell_type": "markdown",
   "metadata": {},
   "source": [
    "##### Time"
   ]
  },
  {
   "cell_type": "code",
   "execution_count": 27,
   "metadata": {},
   "outputs": [
    {
     "data": {
      "text/plain": [
       "array([[2, 2],\n",
       "       [6, 4]])"
      ]
     },
     "execution_count": 27,
     "metadata": {},
     "output_type": "execute_result"
    }
   ],
   "source": [
    "np.array([[1,2],[3,4]])*[2,1]"
   ]
  },
  {
   "cell_type": "code",
   "execution_count": 17,
   "metadata": {},
   "outputs": [
    {
     "data": {
      "text/plain": [
       "-2.0"
      ]
     },
     "execution_count": 17,
     "metadata": {},
     "output_type": "execute_result"
    }
   ],
   "source": [
    "# sig_fft = np.fft.fft(event_list)   #TEMP\n",
    "# sig_fft[75:125]=0   #TEMP\n",
    "# event_list = np.fft.fft(sig_fft).real[::-1] / 200    #TEMP"
   ]
  },
  {
   "cell_type": "code",
   "execution_count": 4,
   "metadata": {},
   "outputs": [
    {
     "name": "stdout",
     "output_type": "stream",
     "text": [
      "Total time:70.33348083496094\n"
     ]
    },
    {
     "data": {
      "text/plain": [
       "array([1., 2., 2., 2., 2.])"
      ]
     },
     "execution_count": 4,
     "metadata": {},
     "output_type": "execute_result"
    }
   ],
   "source": [
    "import time\n",
    "import numpy as np\n",
    "a = range(1000000)\n",
    "T1 = time.time()\n",
    "# b = []\n",
    "# for i in a:\n",
    "#     b.append(i**2)\n",
    "b = np.empty((10000,5))\n",
    "b[0] = [1,2,2,2,2]\n",
    "T2 = time.time()\n",
    "print( f'Total time:{(T2 - T1)*1000000}')\n",
    "b[0]"
   ]
  },
  {
   "cell_type": "code",
   "execution_count": 14,
   "metadata": {},
   "outputs": [
    {
     "name": "stdout",
     "output_type": "stream",
     "text": [
      "Total time:42373.1803894043 us\n"
     ]
    }
   ],
   "source": [
    "import time\n",
    "T1 = time.time()\n",
    "for i in range(1000000):\n",
    "    a =  0\n",
    "T2 = time.time()\n",
    "print( f'Total time:{(T2 - T1)*1000000} us')"
   ]
  },
  {
   "cell_type": "code",
   "execution_count": 174,
   "metadata": {},
   "outputs": [
    {
     "name": "stdout",
     "output_type": "stream",
     "text": [
      "Total time:73513.03100585938 us\n"
     ]
    },
    {
     "data": {
      "text/plain": [
       "{2: 6, 9: 9, 0: 0, 4: 1, 3: 7, 8: 4, 1: 4, 7: 7, 5: 9, 6: 8}"
      ]
     },
     "execution_count": 174,
     "metadata": {},
     "output_type": "execute_result"
    }
   ],
   "source": [
    "s = np.array([np.random.randint(0,10) for i in range(100000)])\n",
    "s2 = np.array([np.random.randint(0,10) for i in range(100000)])\n",
    "import time\n",
    "T1 = time.time()\n",
    "# b = dict(zip(s , s2))\n",
    "# b = dict(np.array((s,s2)).T)\n",
    "# b = np.array([np.fromstring(i, sep=',') for i in (s,s2)], dtype=float).T\n",
    "# b = np.loadtxt((s,s2), delimiter=',', dtype=float).T\n",
    "T2 = time.time()\n",
    "print( f'Total time:{(T2 - T1)*1000000} us')\n",
    "b = dict(b)\n",
    "b"
   ]
  },
  {
   "cell_type": "code",
   "execution_count": 225,
   "metadata": {},
   "outputs": [
    {
     "name": "stdout",
     "output_type": "stream",
     "text": [
      "Total time:168.32351684570312 us\n"
     ]
    },
    {
     "data": {
      "text/plain": [
       "array([[0, 0],\n",
       "       [0, 0],\n",
       "       [0, 0],\n",
       "       ...,\n",
       "       [0, 0],\n",
       "       [0, 0],\n",
       "       [0, 0]], dtype=uint32)"
      ]
     },
     "execution_count": 225,
     "metadata": {},
     "output_type": "execute_result"
    }
   ],
   "source": [
    "s1 = ','.join([str(np.random.rand()) for i in range(100000)])\n",
    "s2 = ','.join([str(np.random.rand()) for i in range(100000)])\n",
    "import time\n",
    "b = np.array([np.fromstring(s, sep=',') for s in (s1, s2)]).T\n",
    "T1 = time.time()\n",
    "# b = dict(zip(*[np.fromstring(s, sep=',') for s in (s1, s2)]))\n",
    "b = np.asarray(b, np.uint32)\n",
    "T2 = time.time()\n",
    "print( f'Total time:{(T2 - T1)*1000000} us')\n",
    "b"
   ]
  },
  {
   "cell_type": "code",
   "execution_count": 56,
   "metadata": {},
   "outputs": [
    {
     "name": "stdout",
     "output_type": "stream",
     "text": [
      "48.6 ns ± 1.27 ns per loop (mean ± std. dev. of 7 runs, 10,000,000 loops each)\n",
      "61.2 ns ± 0.727 ns per loop (mean ± std. dev. of 7 runs, 10,000,000 loops each)\n"
     ]
    }
   ],
   "source": [
    "s = np.random.random(100000)\n",
    "%timeit  len(s)\n",
    "%timeit s.shape[0]"
   ]
  },
  {
   "cell_type": "code",
   "execution_count": 63,
   "metadata": {},
   "outputs": [
    {
     "name": "stdout",
     "output_type": "stream",
     "text": [
      "7.98 µs ± 62.7 ns per loop (mean ± std. dev. of 7 runs, 100,000 loops each)\n",
      "7.05 ns ± 0.00405 ns per loop (mean ± std. dev. of 7 runs, 100,000,000 loops each)\n"
     ]
    }
   ],
   "source": [
    "%timeit b = np.sqrt(np.sum(s **2)/len(s) - (np.sum(s)/len(s)) ** 2)\n",
    "%timeit b  = 1"
   ]
  },
  {
   "cell_type": "code",
   "execution_count": 2,
   "metadata": {},
   "outputs": [],
   "source": [
    "from scipy.special import factorial\n",
    "import numpy as np\n",
    "from scipy.optimize import leastsq, curve_fit, basinhopping\n",
    "import random, math\n",
    "import matplotlib.pyplot as plt\n",
    "from collections import Counter\n",
    "\n",
    "np.set_printoptions(linewidth=300,precision=3, suppress=True)\n",
    "items = 30\n",
    "\n",
    "def poisson_dist(n, l):\n",
    "    return l ** n * np.exp(-l) / factorial(n)\n",
    "\n",
    "def gaussion_dist(x, d, s):\n",
    "    return np.exp(-(x-d) ** 2 / (2 * s ** 2)) / (math.sqrt(2 * math.pi) * s)\n",
    "\n",
    "def dist_func(x, A, de, s0, se, le):\n",
    "    func = lambda k: A * poisson_dist(k, le) * gaussion_dist(x, k * de, np.sqrt(s0 ** 2 + k * se ** 2)) \n",
    "    return sum(func(i) for i in range(items))\n",
    "\n",
    "def dist_func_r(x, A, de, s0, se, le, k):\n",
    "    return A * poisson_dist(k, le) * gaussion_dist(x, k * de, np.sqrt(s0 ** 2 + k * se ** 2)) \n",
    "\n",
    "## Method : Use `curve_fit`\n",
    "def process_data(x,y):\n",
    "    func = dist_func\n",
    "    init_args = [22000, 3, 0.9, 1.1, 1]\n",
    "    bounds = (0,(50000, 10,3,8,20))\n",
    "    popt, pcov = curve_fit(func, x, y,p0=init_args,bounds=bounds, maxfev = 100000 ) # ......\n",
    "    return x, func(x, *popt), popt, pcov"
   ]
  },
  {
   "cell_type": "code",
   "execution_count": 12,
   "metadata": {},
   "outputs": [
    {
     "data": {
      "text/plain": [
       "<matplotlib.collections.PathCollection at 0x7fca723ef4c0>"
      ]
     },
     "execution_count": 12,
     "metadata": {},
     "output_type": "execute_result"
    },
    {
     "data": {
      "image/png": "[encoded data removed]",
      "text/plain": [
       "<Figure size 432x288 with 1 Axes>"
      ]
     },
     "metadata": {
      "needs_background": "light"
     },
     "output_type": "display_data"
    }
   ],
   "source": [
    "tot = []\n",
    "for i in range(100000):\n",
    "    n = np.random.poisson(2)\n",
    "    a = 100 * np.random.normal(n * 2.28, math.sqrt(0.2 ** 2 + n * .2 ** 2))\n",
    "    m = a * gaussion_dist( random.random() - 1  , 0 , 1)\n",
    "    tot.append(round(m))\n",
    "tot = Counter(tot)\n",
    "plt.scatter(tot.keys(), tot.values(), s = 2)"
   ]
  },
  {
   "cell_type": "code",
   "execution_count": 46,
   "metadata": {},
   "outputs": [
    {
     "data": {
      "text/plain": [
       "2.4736124438917244"
      ]
     },
     "execution_count": 46,
     "metadata": {},
     "output_type": "execute_result"
    }
   ],
   "source": [
    "n = np.random.poisson(.5)\n",
    "a = np.random.normal(n * 2.28, math.sqrt(0.86 ** 2 + n * 1.4 ** 2))\n",
    "a"
   ]
  },
  {
   "cell_type": "code",
   "execution_count": 174,
   "metadata": {},
   "outputs": [
    {
     "ename": "KeyError",
     "evalue": "2",
     "output_type": "error",
     "traceback": [
      "\u001b[0;31m---------------------------------------------------------------------------\u001b[0m",
      "\u001b[0;31mKeyError\u001b[0m                                  Traceback (most recent call last)",
      "\u001b[1;32m/home/relicsdaq/PMTTest/analysis/yfzhao/trash.ipynb Cell 8'\u001b[0m in \u001b[0;36m<cell line: 1>\u001b[0;34m()\u001b[0m\n\u001b[0;32m----> <a href='vscode-notebook-cell://ssh-remote%2Brelicsdaq/home/relicsdaq/PMTTest/analysis/yfzhao/trash.ipynb#ch0000008vscode-remote?line=0'>1</a>\u001b[0m {\u001b[39m1\u001b[39;49m:\u001b[39m1\u001b[39;49m}[\u001b[39m2\u001b[39;49m]\n",
      "\u001b[0;31mKeyError\u001b[0m: 2"
     ]
    }
   ],
   "source": [
    "{1:1}[2]"
   ]
  },
  {
   "cell_type": "code",
   "execution_count": 4,
   "metadata": {},
   "outputs": [
    {
     "ename": "TypeError",
     "evalue": "type numpy.ndarray doesn't define __round__ method",
     "output_type": "error",
     "traceback": [
      "\u001b[0;31m---------------------------------------------------------------------------\u001b[0m",
      "\u001b[0;31mTypeError\u001b[0m                                 Traceback (most recent call last)",
      "\u001b[1;32m/home/relicsdaq/PMTTest/analysis/yfzhao/trash.ipynb Cell 6'\u001b[0m in \u001b[0;36m<cell line: 1>\u001b[0;34m()\u001b[0m\n\u001b[0;32m----> <a href='vscode-notebook-cell://ssh-remote%2Brelicsdaq/home/relicsdaq/PMTTest/analysis/yfzhao/trash.ipynb#ch0000005vscode-remote?line=0'>1</a>\u001b[0m \u001b[39mround\u001b[39;49m(np\u001b[39m.\u001b[39;49marray((\u001b[39m1\u001b[39;49m,\u001b[39m2\u001b[39;49m,\u001b[39m3\u001b[39;49m)))\n",
      "\u001b[0;31mTypeError\u001b[0m: type numpy.ndarray doesn't define __round__ method"
     ]
    }
   ],
   "source": [
    "round(np.array((1,2,3)))"
   ]
  }
 ],
 "metadata": {
  "interpreter": {
   "hash": "fe923fccdd456fe5e631ebafa3480d836a7689f6d6dc1b37d27c9f9a52c16642"
  },
  "kernelspec": {
   "display_name": "Python 3.10.4 ('yfzhao')",
   "language": "python",
   "name": "python3"
  },
  "language_info": {
   "codemirror_mode": {
    "name": "ipython",
    "version": 3
   },
   "file_extension": ".py",
   "mimetype": "text/x-python",
   "name": "python",
   "nbconvert_exporter": "python",
   "pygments_lexer": "ipython3",
   "version": "3.10.4"
  },
  "orig_nbformat": 4
 },
 "nbformat": 4,
 "nbformat_minor": 2
}
